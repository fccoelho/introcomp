{
 "cells": [
  {
   "cell_type": "markdown",
   "id": "6395ad8f-de14-42a6-abc9-85e32f222ea8",
   "metadata": {},
   "source": [
    "# Jogo da Vida de Conway\n",
    "O jogo da vida de Conway é um autômato celular, que foi concebido pelo matemático britânico John Horton Conway em 1970. O jogo é um exemplo de um sistema dinâmico que exibe padrões emergentes complexos. Apesar de suas regras simples, o jogo da vida é Turing completo e pode simular uma máquina universal de Turing.\n",
    "\n",
    "O Jogo da Vida pode ser descrito como um grid bidimensional infinito de células, cada uma das quais pode estar viva ou morta. Cada célula interage com seus oito vizinhos, que são as células que estão horizontal, vertical ou diagonalmente adjacentes. Em cada passo do tempo, as seguintes regras são aplicadas a cada célula:\n",
    "1. Uma célula morta com exatamente três vizinhos vivos se torna uma célula viva.\n",
    "2. Uma célula viva com dois ou três vizinhos vivos permanece viva.\n",
    "3. Em todos os outros casos, uma célula viva morre ou permanece morta.\n",
    "\n",
    " Vamos implementar o Jogo da vida usando um array bidimensional para representar o grid. Cada célula será representada por um 0 se estiver morta e 1 se estiver viva. Vamos implementar uma função que recebe um grid inicial e o número de passos de tempo e retorna o grid após o número especificado de passos de tempo.\n",
    " "
   ]
  },
  {
   "cell_type": "code",
   "id": "initial_id",
   "metadata": {
    "ExecuteTime": {
     "end_time": "2025-05-27T11:06:45.228396Z",
     "start_time": "2025-05-27T11:06:45.177413Z"
    }
   },
   "source": [
    "import numpy as np\n",
    "import matplotlib.pyplot as plt\n",
    "from IPython.display import display\n",
    "import ipywidgets as widgets\n",
    "from ipywidgets import interact, IntSlider"
   ],
   "outputs": [],
   "execution_count": 4
  },
  {
   "metadata": {},
   "cell_type": "markdown",
   "source": "## Simulador básico do Jogo da Vida",
   "id": "d54dd2c3be3b4303"
  },
  {
   "cell_type": "code",
   "id": "477aad00275d031c",
   "metadata": {
    "ExecuteTime": {
     "end_time": "2025-05-27T11:13:31.270232Z",
     "start_time": "2025-05-27T11:13:31.267522Z"
    }
   },
   "source": [
    "# fig, ax = plt.subplots()\n",
    "def game_of_life_step(grid, steps):\n",
    "    history = [grid.copy()]\n",
    "    rows, cols = grid.shape\n",
    "    new_grid = np.zeros((rows, cols))\n",
    "    for _ in range(steps):\n",
    "        for i in range(rows):\n",
    "            for j in range(cols):\n",
    "                neighbors = grid[max(i - 1, 0):min(i + 2, rows), max(j - 1, 0):min(j + 2, cols)]\n",
    "                live_neighbors = np.sum(neighbors) - grid[i, j]\n",
    "                if grid[i,j] == 1 and (live_neighbors<2 or live_neighbors>3):\n",
    "                    new_grid[i,j] = 0\n",
    "                if grid[i, j] == 0 and live_neighbors == 3:\n",
    "                    new_grid[i, j] = 1\n",
    "\n",
    "        history.append(new_grid.copy())\n",
    "\n",
    "    return history"
   ],
   "outputs": [],
   "execution_count": 12
  },
  {
   "cell_type": "code",
   "id": "796dff6289c3505d",
   "metadata": {
    "ExecuteTime": {
     "end_time": "2025-05-27T11:13:31.925540Z",
     "start_time": "2025-05-27T11:13:31.923511Z"
    }
   },
   "source": [
    "grid_inicial = np.zeros((10,10))\n",
    "grid_inicial[2,3] = 1\n",
    "grid_inicial[2,5] = 1\n",
    "grid_inicial[3,4] = 1\n",
    "grid_inicial[5,3] = 1\n",
    "grid_inicial[5,5] = 1\n",
    "grid_inicial[6,4] = 1\n",
    "grid_inicial[8,:] = np.ones(10) # Linha inteira viva\n"
   ],
   "outputs": [],
   "execution_count": 13
  },
  {
   "metadata": {
    "ExecuteTime": {
     "end_time": "2025-05-27T11:22:32.722950Z",
     "start_time": "2025-05-27T11:22:32.718672Z"
    }
   },
   "cell_type": "code",
   "source": [
    "%%time\n",
    "# Rodar o jogo e salvar histórico\n",
    "steps = 10\n",
    "history = game_of_life_step(grid_inicial, steps)\n",
    "\n",
    "# Função de visualização interativa\n",
    "def visualize_step(step):\n",
    "    plt.figure(figsize=(6, 6))\n",
    "    plt.imshow(history[step], cmap='binary', interpolation='nearest')\n",
    "    plt.title(f'Passo: {step}')\n",
    "    plt.axis('off')  # Remover eixos para melhor visualização\n",
    "    plt.show()"
   ],
   "id": "6d433104-b832-45d1-a487-1afcf563116c",
   "outputs": [
    {
     "name": "stdout",
     "output_type": "stream",
     "text": [
      "CPU times: user 2.1 ms, sys: 0 ns, total: 2.1 ms\n",
      "Wall time: 2.11 ms\n"
     ]
    }
   ],
   "execution_count": 27
  },
  {
   "metadata": {},
   "cell_type": "markdown",
   "source": [
    "### Visualização do Jogo da Vida\n",
    "Vamos testar a função com um grid inicial aleatório de 10x10 e 10 passos de tempo."
   ],
   "id": "fd07da8cf97f20bf"
  },
  {
   "metadata": {
    "ExecuteTime": {
     "end_time": "2025-05-27T11:22:15.874056Z",
     "start_time": "2025-05-27T11:22:15.847589Z"
    }
   },
   "cell_type": "code",
   "source": [
    "# Criar slider para navegar pelos passos\n",
    "interact(\n",
    "    visualize_step,\n",
    "    step=IntSlider(min=0, max=len(history)-1, description='Passo:')\n",
    ")"
   ],
   "id": "38a528aef8b3f5c3",
   "outputs": [
    {
     "data": {
      "text/plain": [
       "interactive(children=(IntSlider(value=0, description='Passo:'), Output()), _dom_classes=('widget-interact',))"
      ],
      "application/vnd.jupyter.widget-view+json": {
       "version_major": 2,
       "version_minor": 0,
       "model_id": "18c980436c2544c782e13389f35289ff"
      }
     },
     "metadata": {},
     "output_type": "display_data"
    },
    {
     "name": "stdout",
     "output_type": "stream",
     "text": [
      "CPU times: user 25.1 ms, sys: 0 ns, total: 25.1 ms\n",
      "Wall time: 24.3 ms\n"
     ]
    },
    {
     "data": {
      "text/plain": [
       "<function __main__.visualize_step(step)>"
      ]
     },
     "execution_count": 26,
     "metadata": {},
     "output_type": "execute_result"
    }
   ],
   "execution_count": 26
  },
  {
   "cell_type": "code",
   "id": "e9dc586f8d38de3",
   "metadata": {
    "ExecuteTime": {
     "end_time": "2025-05-27T11:20:05.283882Z",
     "start_time": "2025-05-27T11:20:05.281389Z"
    }
   },
   "source": [
    "# implementação alternativa\n",
    "def game_of_life2(grid, steps):\n",
    "    history = [grid.copy()]\n",
    "    for _ in range(steps):\n",
    "        # Usa numpy.pad para adicionar uma borda de zeros ao redor do grid\n",
    "        padded_grid = np.pad(grid, pad_width=1, mode='constant', constant_values=0)\n",
    "        \n",
    "        # Calcula o número de vizinhos vivos de cada célula\n",
    "        neighbor_sum = sum(np.roll(np.roll(grid, i, axis=0), j, axis=1)\n",
    "                           for i in (-1, 0, 1) for j in (-1, 0, 1) if (i != 0 or j != 0))\n",
    "        \n",
    "        # Aplica as regras do jogo\n",
    "        birth = (neighbor_sum==3) & (grid==0)\n",
    "        survive = ((neighbor_sum==2) | (neighbor_sum==3)) & (grid==1)\n",
    "        \n",
    "        grid[:] = birth | survive\n",
    "        history.append(grid.copy())\n",
    "    return history"
   ],
   "outputs": [],
   "execution_count": 20
  },
  {
   "cell_type": "code",
   "id": "2469b83a-7e41-4843-abe2-16b9aa2d0c81",
   "metadata": {
    "ExecuteTime": {
     "end_time": "2025-05-27T11:21:24.398366Z",
     "start_time": "2025-05-27T11:21:24.389390Z"
    }
   },
   "source": [
    "%%time\n",
    "history = game_of_life2(grid_inicial,100)"
   ],
   "outputs": [
    {
     "name": "stdout",
     "output_type": "stream",
     "text": [
      "CPU times: user 7.06 ms, sys: 6 μs, total: 7.07 ms\n",
      "Wall time: 7.04 ms\n"
     ]
    }
   ],
   "execution_count": 24
  },
  {
   "cell_type": "markdown",
   "id": "c0a60c071436170b",
   "metadata": {},
   "source": ""
  },
  {
   "cell_type": "code",
   "id": "a139288fe432079a",
   "metadata": {
    "ExecuteTime": {
     "end_time": "2025-05-27T11:21:33.351322Z",
     "start_time": "2025-05-27T11:21:33.314272Z"
    }
   },
   "source": [
    "interact(\n",
    "    visualize_step,\n",
    "    step=IntSlider(min=0, max=len(history)-1, description='Passo:')\n",
    ")"
   ],
   "outputs": [
    {
     "data": {
      "text/plain": [
       "interactive(children=(IntSlider(value=0, description='Passo:'), Output()), _dom_classes=('widget-interact',))"
      ],
      "application/vnd.jupyter.widget-view+json": {
       "version_major": 2,
       "version_minor": 0,
       "model_id": "e80a6e5a0c034d3c8df4b5e9033335e0"
      }
     },
     "metadata": {},
     "output_type": "display_data"
    },
    {
     "data": {
      "text/plain": [
       "<function __main__.visualize_step(step)>"
      ]
     },
     "execution_count": 25,
     "metadata": {},
     "output_type": "execute_result"
    }
   ],
   "execution_count": 25
  },
  {
   "metadata": {},
   "cell_type": "code",
   "outputs": [],
   "execution_count": null,
   "source": "",
   "id": "8849db164f889e70"
  }
 ],
 "metadata": {
  "kernelspec": {
   "display_name": "Python 3 (ipykernel)",
   "language": "python",
   "name": "python3"
  },
  "language_info": {
   "codemirror_mode": {
    "name": "ipython",
    "version": 3
   },
   "file_extension": ".py",
   "mimetype": "text/x-python",
   "name": "python",
   "nbconvert_exporter": "python",
   "pygments_lexer": "ipython3",
   "version": "3.11.5"
  }
 },
 "nbformat": 4,
 "nbformat_minor": 5
}
