{
 "cells": [
  {
   "cell_type": "code",
   "execution_count": 11,
   "id": "f7841dae-b904-46b6-8e71-88017268636c",
   "metadata": {},
   "outputs": [],
   "source": [
    "import numpy as np\n",
    "import matplotlib.pyplot as plt"
   ]
  },
  {
   "cell_type": "code",
   "execution_count": 6,
   "id": "15f76e67-ee0f-4429-bcd0-725e9f8566ca",
   "metadata": {},
   "outputs": [],
   "source": [
    "A = np.random.uniform(0,10, (3,4))"
   ]
  },
  {
   "cell_type": "code",
   "execution_count": 4,
   "id": "65024202-07f6-4e3f-b811-4118cc0c0c99",
   "metadata": {},
   "outputs": [],
   "source": [
    "B = np.random.uniform(0,10, (4,7))"
   ]
  },
  {
   "cell_type": "code",
   "execution_count": 9,
   "id": "3beac96d-c3da-4054-9391-140b7ff2dc5e",
   "metadata": {},
   "outputs": [
    {
     "data": {
      "text/plain": [
       "(3, 7)"
      ]
     },
     "execution_count": 9,
     "metadata": {},
     "output_type": "execute_result"
    }
   ],
   "source": [
    "C = np.dot(A,B)\n",
    "C.shape"
   ]
  },
  {
   "cell_type": "code",
   "execution_count": 10,
   "id": "673fd7c0-98f1-42eb-8be8-1105e9dd9dd7",
   "metadata": {},
   "outputs": [
    {
     "data": {
      "text/plain": [
       "array([[172.49767566, 119.64867754,  60.87137069, 106.52568641,\n",
       "        136.38517081,  95.99069046, 102.04042881],\n",
       "       [150.01660955, 105.11274335,  48.54818784,  81.31816301,\n",
       "        116.30264932,  87.33543572,  75.16356495],\n",
       "       [101.95139398,  83.65176863,  41.82271413,  79.00544121,\n",
       "         75.22097026,  49.70491582,  77.53230446]])"
      ]
     },
     "execution_count": 10,
     "metadata": {},
     "output_type": "execute_result"
    }
   ],
   "source": [
    "A@B"
   ]
  },
  {
   "cell_type": "code",
   "execution_count": 16,
   "id": "e821acc9-409c-41b5-99be-b180b81956a2",
   "metadata": {},
   "outputs": [
    {
     "data": {
      "image/png": "[encoded data removed]",
      "text/plain": [
       "<Figure size 640x480 with 1 Axes>"
      ]
     },
     "metadata": {},
     "output_type": "display_data"
    }
   ],
   "source": [
    "plt.plot(np.linspace(0,10,50),'*');"
   ]
  },
  {
   "cell_type": "code",
   "execution_count": 18,
   "id": "f6868cf7-bdd9-4631-ab13-3d4c0fe19400",
   "metadata": {},
   "outputs": [
    {
     "data": {
      "image/png": "[encoded data removed]",
      "text/plain": [
       "<Figure size 640x480 with 1 Axes>"
      ]
     },
     "metadata": {},
     "output_type": "display_data"
    }
   ],
   "source": [
    "plt.plot(np.log(np.logspace(0,10,50)),'*');"
   ]
  },
  {
   "cell_type": "code",
   "execution_count": 21,
   "id": "7861af8f-39eb-4408-8053-f53f641c000c",
   "metadata": {},
   "outputs": [
    {
     "data": {
      "text/plain": [
       "array([[1., 0., 0., 0., 0.],\n",
       "       [0., 1., 0., 0., 0.],\n",
       "       [0., 0., 1., 0., 0.],\n",
       "       [0., 0., 0., 1., 0.],\n",
       "       [0., 0., 0., 0., 1.]])"
      ]
     },
     "execution_count": 21,
     "metadata": {},
     "output_type": "execute_result"
    }
   ],
   "source": [
    "np.eye(5)"
   ]
  },
  {
   "cell_type": "code",
   "execution_count": 26,
   "id": "d4ec2676-2a87-4232-9729-31e9eb905b49",
   "metadata": {},
   "outputs": [],
   "source": [
    "D = np.random.uniform(1,35,(5,5))"
   ]
  },
  {
   "cell_type": "code",
   "execution_count": 27,
   "id": "6b756738-7f6d-4ada-9f1c-ba553caebec3",
   "metadata": {},
   "outputs": [
    {
     "data": {
      "text/plain": [
       "array([[ True,  True,  True,  True,  True],\n",
       "       [ True,  True,  True,  True,  True],\n",
       "       [ True,  True,  True,  True,  True],\n",
       "       [ True,  True,  True,  True,  True],\n",
       "       [ True,  True,  True,  True,  True]])"
      ]
     },
     "execution_count": 27,
     "metadata": {},
     "output_type": "execute_result"
    }
   ],
   "source": [
    "D@np.eye(5) == D"
   ]
  },
  {
   "cell_type": "code",
   "execution_count": 28,
   "id": "2a3afb12-0e64-4422-8c1f-6cefd581c4a8",
   "metadata": {},
   "outputs": [
    {
     "data": {
      "text/plain": [
       "array([[ 7.57312801,  0.        ,  0.        ,  0.        ,  0.        ],\n",
       "       [ 0.        , 14.91278259,  0.        ,  0.        ,  0.        ],\n",
       "       [ 0.        ,  0.        , 17.64453466,  0.        ,  0.        ],\n",
       "       [ 0.        ,  0.        ,  0.        , 34.24559183,  0.        ],\n",
       "       [ 0.        ,  0.        ,  0.        ,  0.        , 19.99130771]])"
      ]
     },
     "execution_count": 28,
     "metadata": {},
     "output_type": "execute_result"
    }
   ],
   "source": [
    "D*np.eye(5)"
   ]
  },
  {
   "cell_type": "code",
   "execution_count": 29,
   "id": "e3a173f7-1874-48e6-abae-263c206bf3f1",
   "metadata": {},
   "outputs": [
    {
     "ename": "ValueError",
     "evalue": "operands could not be broadcast together with shapes (3,4) (4,7) ",
     "output_type": "error",
     "traceback": [
      "\u001b[1;31m---------------------------------------------------------------------------\u001b[0m",
      "\u001b[1;31mValueError\u001b[0m                                Traceback (most recent call last)",
      "Cell \u001b[1;32mIn[29], line 1\u001b[0m\n\u001b[1;32m----> 1\u001b[0m A\u001b[38;5;241m*\u001b[39mB\n",
      "\u001b[1;31mValueError\u001b[0m: operands could not be broadcast together with shapes (3,4) (4,7) "
     ]
    }
   ],
   "source": [
    "A*B"
   ]
  },
  {
   "cell_type": "code",
   "execution_count": 31,
   "id": "78ddcf4c-7ff6-48b9-8044-92dc7c0839ed",
   "metadata": {},
   "outputs": [
    {
     "data": {
      "text/plain": [
       "array([[5.9863245 , 6.14689376, 7.950691  , 2.85864303],\n",
       "       [3.10731741, 5.30948697, 7.44467635, 3.55052133],\n",
       "       [5.82414133, 4.441056  , 0.26418445, 3.21040542]])"
      ]
     },
     "execution_count": 31,
     "metadata": {},
     "output_type": "execute_result"
    }
   ],
   "source": [
    "A"
   ]
  },
  {
   "cell_type": "code",
   "execution_count": 32,
   "id": "dd0b37f3-db2d-4749-8b2a-774fc4c5ea3c",
   "metadata": {},
   "outputs": [
    {
     "data": {
      "text/plain": [
       "array([[5.9863245 , 3.10731741, 5.82414133],\n",
       "       [6.14689376, 5.30948697, 4.441056  ],\n",
       "       [7.950691  , 7.44467635, 0.26418445],\n",
       "       [2.85864303, 3.55052133, 3.21040542]])"
      ]
     },
     "execution_count": 32,
     "metadata": {},
     "output_type": "execute_result"
    }
   ],
   "source": [
    "A.T"
   ]
  },
  {
   "cell_type": "code",
   "execution_count": 35,
   "id": "f3a7f664-fc96-4414-b6a6-88900fa43519",
   "metadata": {},
   "outputs": [
    {
     "data": {
      "text/plain": [
       "array([[ 0.0158463 , -0.07651917,  0.03328505, -0.02634736,  0.0129177 ],\n",
       "       [-0.03776693,  0.06735265,  0.00523317,  0.0132475 , -0.00210291],\n",
       "       [ 0.0529098 , -0.0050747 ,  0.04227423, -0.02162905, -0.04411393],\n",
       "       [-0.00169798, -0.0022245 , -0.00637733,  0.03924622, -0.00486874],\n",
       "       [-0.04057335,  0.02919877, -0.10302363, -0.01434348,  0.1023234 ]])"
      ]
     },
     "execution_count": 35,
     "metadata": {},
     "output_type": "execute_result"
    }
   ],
   "source": [
    "np.linalg.inv(D)"
   ]
  },
  {
   "cell_type": "code",
   "execution_count": 37,
   "id": "f5ff3a13-7b42-4458-9df3-d89c60264dcc",
   "metadata": {},
   "outputs": [
    {
     "data": {
      "text/plain": [
       "(10,)"
      ]
     },
     "execution_count": 37,
     "metadata": {},
     "output_type": "execute_result"
    }
   ],
   "source": [
    "a = np.arange(10)\n",
    "a.shape"
   ]
  },
  {
   "cell_type": "code",
   "execution_count": 39,
   "id": "6cf82e47-f963-4725-9215-6bfa9bbb5aeb",
   "metadata": {},
   "outputs": [
    {
     "data": {
      "text/plain": [
       "(1, 10)"
      ]
     },
     "execution_count": 39,
     "metadata": {},
     "output_type": "execute_result"
    }
   ],
   "source": [
    "b = a.reshape(1,10)\n",
    "b.shape"
   ]
  },
  {
   "cell_type": "code",
   "execution_count": 41,
   "id": "dd88b7a3-6738-4842-8e99-fbb7e1ffe55e",
   "metadata": {},
   "outputs": [
    {
     "ename": "AttributeError",
     "evalue": "module 'numpy' has no attribute 'dim'",
     "output_type": "error",
     "traceback": [
      "\u001b[1;31m---------------------------------------------------------------------------\u001b[0m",
      "\u001b[1;31mAttributeError\u001b[0m                            Traceback (most recent call last)",
      "Cell \u001b[1;32mIn[41], line 1\u001b[0m\n\u001b[1;32m----> 1\u001b[0m np\u001b[38;5;241m.\u001b[39mdim()\n",
      "File \u001b[1;32mC:\\ProgramData\\anaconda3\\Lib\\site-packages\\numpy\\__init__.py:333\u001b[0m, in \u001b[0;36m__getattr__\u001b[1;34m(attr)\u001b[0m\n\u001b[0;32m    330\u001b[0m     \u001b[38;5;124m\"\u001b[39m\u001b[38;5;124mRemoved in NumPy 1.25.0\u001b[39m\u001b[38;5;124m\"\u001b[39m\n\u001b[0;32m    331\u001b[0m     \u001b[38;5;28;01mraise\u001b[39;00m \u001b[38;5;167;01mRuntimeError\u001b[39;00m(\u001b[38;5;124m\"\u001b[39m\u001b[38;5;124mTester was removed in NumPy 1.25.\u001b[39m\u001b[38;5;124m\"\u001b[39m)\n\u001b[1;32m--> 333\u001b[0m \u001b[38;5;28;01mraise\u001b[39;00m \u001b[38;5;167;01mAttributeError\u001b[39;00m(\u001b[38;5;124m\"\u001b[39m\u001b[38;5;124mmodule \u001b[39m\u001b[38;5;132;01m{!r}\u001b[39;00m\u001b[38;5;124m has no attribute \u001b[39m\u001b[38;5;124m\"\u001b[39m\n\u001b[0;32m    334\u001b[0m                      \u001b[38;5;124m\"\u001b[39m\u001b[38;5;132;01m{!r}\u001b[39;00m\u001b[38;5;124m\"\u001b[39m\u001b[38;5;241m.\u001b[39mformat(\u001b[38;5;18m__name__\u001b[39m, attr))\n",
      "\u001b[1;31mAttributeError\u001b[0m: module 'numpy' has no attribute 'dim'"
     ]
    }
   ],
   "source": [
    "np.d"
   ]
  },
  {
   "cell_type": "code",
   "execution_count": 43,
   "id": "79a0d737-8463-4719-a403-971bd748f8a3",
   "metadata": {},
   "outputs": [
    {
     "data": {
      "text/plain": [
       "array([[1, 2, 3],\n",
       "       [1, 2, 3]])"
      ]
     },
     "execution_count": 43,
     "metadata": {},
     "output_type": "execute_result"
    }
   ],
   "source": [
    "l = np.array([[1,2,3],[1,2,3]])\n",
    "l"
   ]
  },
  {
   "cell_type": "code",
   "execution_count": 44,
   "id": "605e046c-7f14-42c8-b582-00f57613f5c2",
   "metadata": {},
   "outputs": [
    {
     "data": {
      "text/plain": [
       "array([[5.9863245 , 6.14689376, 7.950691  , 2.85864303],\n",
       "       [3.10731741, 5.30948697, 7.44467635, 3.55052133],\n",
       "       [5.82414133, 4.441056  , 0.26418445, 3.21040542]])"
      ]
     },
     "execution_count": 44,
     "metadata": {},
     "output_type": "execute_result"
    }
   ],
   "source": [
    "A"
   ]
  },
  {
   "cell_type": "code",
   "execution_count": 46,
   "id": "89b01cd4-57b0-4b86-88fb-6126695d4e61",
   "metadata": {},
   "outputs": [
    {
     "name": "stdout",
     "output_type": "stream",
     "text": [
      "[5.9863245  3.10731741 5.82414133]\n",
      "[6.14689376 5.30948697 4.441056  ]\n",
      "[7.950691   7.44467635 0.26418445]\n",
      "[2.85864303 3.55052133 3.21040542]\n"
     ]
    }
   ],
   "source": [
    "for l in A.T:\n",
    "    print(l)"
   ]
  },
  {
   "cell_type": "code",
   "execution_count": 55,
   "id": "779a56c3-df64-499e-9473-4e8e596cb066",
   "metadata": {},
   "outputs": [],
   "source": [
    "x=np.linspace(-10,10,1000)\n",
    "f = 3*x**2 - 2*x + 7"
   ]
  },
  {
   "cell_type": "code",
   "execution_count": 56,
   "id": "37da5a3d-2139-4e18-a44b-3ba027afecdd",
   "metadata": {
    "scrolled": true
   },
   "outputs": [
    {
     "data": {
      "image/png": "[encoded data removed]",
      "text/plain": [
       "<Figure size 640x480 with 1 Axes>"
      ]
     },
     "metadata": {},
     "output_type": "display_data"
    }
   ],
   "source": [
    "plt.plot(x,f,'+');"
   ]
  },
  {
   "cell_type": "code",
   "execution_count": 59,
   "id": "8d232619-b1c8-4ee0-a912-e65e812064b1",
   "metadata": {},
   "outputs": [
    {
     "data": {
      "image/png": "[encoded data removed]",
      "text/plain": [
       "<Figure size 640x480 with 1 Axes>"
      ]
     },
     "metadata": {},
     "output_type": "display_data"
    }
   ],
   "source": [
    "plt.plot(x[:-1],np.diff(f))\n",
    "plt.grid()"
   ]
  },
  {
   "cell_type": "code",
   "execution_count": 68,
   "id": "03ad963b-b1c4-474e-af78-1469f6db07c2",
   "metadata": {},
   "outputs": [],
   "source": [
    "A = np.linspace(1.50,1.95,100)\n",
    "P = np.linspace(50,150,100)\n",
    "va, vp = np.meshgrid(A,P)"
   ]
  },
  {
   "cell_type": "code",
   "execution_count": 69,
   "id": "cf264f87-6f14-4bbc-aab5-cf7205b33d96",
   "metadata": {},
   "outputs": [
    {
     "data": {
      "text/plain": [
       "array([[1.5       , 1.50454545, 1.50909091, ..., 1.94090909, 1.94545455,\n",
       "        1.95      ],\n",
       "       [1.5       , 1.50454545, 1.50909091, ..., 1.94090909, 1.94545455,\n",
       "        1.95      ],\n",
       "       [1.5       , 1.50454545, 1.50909091, ..., 1.94090909, 1.94545455,\n",
       "        1.95      ],\n",
       "       ...,\n",
       "       [1.5       , 1.50454545, 1.50909091, ..., 1.94090909, 1.94545455,\n",
       "        1.95      ],\n",
       "       [1.5       , 1.50454545, 1.50909091, ..., 1.94090909, 1.94545455,\n",
       "        1.95      ],\n",
       "       [1.5       , 1.50454545, 1.50909091, ..., 1.94090909, 1.94545455,\n",
       "        1.95      ]])"
      ]
     },
     "execution_count": 69,
     "metadata": {},
     "output_type": "execute_result"
    }
   ],
   "source": [
    "va"
   ]
  },
  {
   "cell_type": "code",
   "execution_count": 70,
   "id": "254e48da-ae46-464c-835f-48d90b2945e0",
   "metadata": {},
   "outputs": [
    {
     "data": {
      "text/plain": [
       "array([[ 50.        ,  50.        ,  50.        , ...,  50.        ,\n",
       "         50.        ,  50.        ],\n",
       "       [ 51.01010101,  51.01010101,  51.01010101, ...,  51.01010101,\n",
       "         51.01010101,  51.01010101],\n",
       "       [ 52.02020202,  52.02020202,  52.02020202, ...,  52.02020202,\n",
       "         52.02020202,  52.02020202],\n",
       "       ...,\n",
       "       [147.97979798, 147.97979798, 147.97979798, ..., 147.97979798,\n",
       "        147.97979798, 147.97979798],\n",
       "       [148.98989899, 148.98989899, 148.98989899, ..., 148.98989899,\n",
       "        148.98989899, 148.98989899],\n",
       "       [150.        , 150.        , 150.        , ..., 150.        ,\n",
       "        150.        , 150.        ]])"
      ]
     },
     "execution_count": 70,
     "metadata": {},
     "output_type": "execute_result"
    }
   ],
   "source": [
    "vp"
   ]
  },
  {
   "cell_type": "code",
   "execution_count": 71,
   "id": "67d4d931-8c8a-487b-894b-aa5cf1ac1c88",
   "metadata": {},
   "outputs": [
    {
     "data": {
      "text/plain": [
       "(100, 100)"
      ]
     },
     "execution_count": 71,
     "metadata": {},
     "output_type": "execute_result"
    }
   ],
   "source": [
    "imc = vp/va**2\n",
    "imc.shape"
   ]
  },
  {
   "cell_type": "code",
   "execution_count": 80,
   "id": "453f60fc-cb62-4a60-bd9e-b0746827e5a2",
   "metadata": {},
   "outputs": [
    {
     "name": "stderr",
     "output_type": "stream",
     "text": [
      "C:\\Users\\flavio.codeco.coelho\\AppData\\Local\\Temp\\ipykernel_7928\\2033960267.py:3: UserWarning: set_ticklabels() should only be used with a fixed number of ticks, i.e. after set_ticks() or using a FixedLocator.\n",
      "  ax.set_xticklabels(np.round(va[0][::20],1))\n",
      "C:\\Users\\flavio.codeco.coelho\\AppData\\Local\\Temp\\ipykernel_7928\\2033960267.py:4: UserWarning: set_ticklabels() should only be used with a fixed number of ticks, i.e. after set_ticks() or using a FixedLocator.\n",
      "  ax.set_yticklabels(np.round(vp[:,0][::20],1))\n"
     ]
    },
    {
     "data": {
      "image/png": "[encoded data removed]",
      "text/plain": [
       "<Figure size 640x480 with 2 Axes>"
      ]
     },
     "metadata": {},
     "output_type": "display_data"
    }
   ],
   "source": [
    "plt.pcolor(imc);\n",
    "ax = plt.gca()\n",
    "ax.set_xticklabels(np.round(va[0][::20],1))\n",
    "ax.set_yticklabels(np.round(vp[:,0][::20],1))\n",
    "plt.grid()\n",
    "plt.xlabel('altura')\n",
    "plt.ylabel('peso')\n",
    "plt.colorbar();"
   ]
  },
  {
   "cell_type": "code",
   "execution_count": 78,
   "id": "13c6ef77-9e24-4293-8d62-29140c997e08",
   "metadata": {},
   "outputs": [
    {
     "data": {
      "text/plain": [
       "array([1.5       , 1.59090909, 1.68181818, 1.77272727, 1.86363636])"
      ]
     },
     "execution_count": 78,
     "metadata": {},
     "output_type": "execute_result"
    }
   ],
   "source": [
    "\n",
    "va[0][::20]"
   ]
  },
  {
   "cell_type": "code",
   "execution_count": null,
   "id": "fb2899e4-329c-4583-b746-4522370b3e49",
   "metadata": {},
   "outputs": [],
   "source": []
  }
 ],
 "metadata": {
  "kernelspec": {
   "display_name": "Python 3 (ipykernel)",
   "language": "python",
   "name": "python3"
  },
  "language_info": {
   "codemirror_mode": {
    "name": "ipython",
    "version": 3
   },
   "file_extension": ".py",
   "mimetype": "text/x-python",
   "name": "python",
   "nbconvert_exporter": "python",
   "pygments_lexer": "ipython3",
   "version": "3.11.5"
  }
 },
 "nbformat": 4,
 "nbformat_minor": 5
}
