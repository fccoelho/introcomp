{
 "cells": [
  {
   "metadata": {},
   "cell_type": "markdown",
   "source": "# Analisando o desempenho da simulação",
   "id": "e1d910ea00287e94"
  },
  {
   "cell_type": "code",
   "id": "initial_id",
   "metadata": {
    "collapsed": true,
    "jupyter": {
     "is_executing": true
    }
   },
   "source": [
    "from elevador import *\n",
    "import elevador"
   ],
   "outputs": [],
   "execution_count": null
  },
  {
   "metadata": {},
   "cell_type": "code",
   "outputs": [],
   "execution_count": null,
   "source": [
    "entregas=[]\n",
    "eficiências=[]\n",
    "n = 100\n",
    "# loop_de_evento(n)\n",
    "for i in range(100):\n",
    "    elevador.POPULAÇÃO = defaultdict(lambda:0)\n",
    "    elevador.DESEMBARCADOS = 0  # Numero de pessoas entregues em andares != térreo\n",
    "    elevador.EMBARCADOS = 0  # numero total de pessoas que pegaram elevadores durante a simulação\n",
    "    elevador.CICLOS = 0\n",
    "    elevador.ANDARES_PERCORRIDOS = 0\n",
    "    en,ef = loop_de_evento(100)\n",
    "    entregas.append(en)\n",
    "    eficiências.append(ef)\n",
    "\n",
    "\n",
    "# print(elevadores)\n",
    "print(elevador.POPULAÇÃO)\n",
    "plt.plot(entregas)\n",
    "plt.title(\"Passageiros Entregues a cada ciclo\")\n",
    "plt.xlabel(\"ciclos\")\n",
    "plt.figure()\n",
    "plt.hist(eficiências)\n",
    "plt.xlabel(\"Eficiência\")\n",
    "plt.show()"
   ],
   "id": "4e02212845e35db0"
  }
 ],
 "metadata": {
  "kernelspec": {
   "display_name": "Python 3",
   "language": "python",
   "name": "python3"
  },
  "language_info": {
   "codemirror_mode": {
    "name": "ipython",
    "version": 2
   },
   "file_extension": ".py",
   "mimetype": "text/x-python",
   "name": "python",
   "nbconvert_exporter": "python",
   "pygments_lexer": "ipython2",
   "version": "2.7.6"
  }
 },
 "nbformat": 4,
 "nbformat_minor": 5
}
